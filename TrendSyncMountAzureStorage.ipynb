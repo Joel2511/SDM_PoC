{
 "cells": [
  {
   "cell_type": "markdown",
   "metadata": {
    "application/vnd.databricks.v1+cell": {
     "cellMetadata": {},
     "inputWidgets": {},
     "nuid": "f2a95ac4-93ae-46d8-803e-f062f45a701a",
     "showTitle": false,
     "tableResultSettingsMap": {},
     "title": ""
    }
   },
   "source": [
    "## Mounting Storage\n",
    "This section mounts the Azure Blob Storage container (`gold-zone-bdm`) to `/mnt/gold-zone-bdm` in Databricks.\n",
    "- Uses `dbutils.fs.mount()` with an sas token for secure access.\n",
    "- Checks if the mount point exists to avoid remounting, ensuring efficiency.\n",
    "- Note: Replace `storage_account_name` with your actual Azure storage account name, and `sas_token` with a secure key (provided seperately for this project).\n",
    "\n",
    "**Process Overview**\n",
    "- Unmounts existing paths if they are already mounted to avoid conflicts.\n",
    "- Sets Azure SAS token configuration for each container.\n",
    "- Mounts container to the appropriate DBFS path using account key.\n",
    "- Verifies each mount point by attempting to list the contents.\n"
   ]
  },
  {
   "cell_type": "code",
   "execution_count": 0,
   "metadata": {
    "application/vnd.databricks.v1+cell": {
     "cellMetadata": {
      "byteLimit": 2048000,
      "rowLimit": 10000
     },
     "inputWidgets": {},
     "nuid": "ddcde8ec-3e08-48e4-aff8-8529836e6de9",
     "showTitle": false,
     "tableResultSettingsMap": {},
     "title": ""
    }
   },
   "outputs": [
    {
     "output_type": "stream",
     "name": "stdout",
     "output_type": "stream",
     "text": [
      "Mounted gold-zone-bdm to /mnt/gold-zone-bdm\n"
     ]
    }
   ],
   "source": [
    "# Mount gold zone using SAS token\n",
    "gold_container_name = \"gold-zone-bdm\"\n",
    "gold_mount_point = \"/mnt/gold-zone-bdm\"\n",
    "storage_account_name = \"inventorydatastoragebdm\"  # Replace with your Azure storage account name\n",
    "sas_token = \"\" #provided seperately for secure access \n",
    "\n",
    "if not any(mount.mountPoint == gold_mount_point for mount in dbutils.fs.mounts()):\n",
    "    dbutils.fs.mount(\n",
    "        source=f\"wasbs://{gold_container_name}@{storage_account_name}.blob.core.windows.net\",\n",
    "        mount_point=gold_mount_point,\n",
    "        extra_configs={\n",
    "            f\"fs.azure.sas.{gold_container_name}.{storage_account_name}.blob.core.windows.net\": sas_token\n",
    "        }\n",
    "    )\n",
    "    print(f\"Mounted {gold_container_name} to {gold_mount_point}\")\n",
    "else:\n",
    "    print(f\"Mount point {gold_mount_point} already exists\")"
   ]
  },
  {
   "cell_type": "markdown",
   "metadata": {
    "application/vnd.databricks.v1+cell": {
     "cellMetadata": {
      "byteLimit": 2048000,
      "rowLimit": 10000
     },
     "inputWidgets": {},
     "nuid": "b3aa3037-68b0-4d2e-b113-8cca813853cc",
     "showTitle": false,
     "tableResultSettingsMap": {},
     "title": ""
    }
   },
   "source": [
    "### Troubleshooting Tips\n",
    "\n",
    "- **Mount Failure**: Ensure the SAS token has `racwdl` permissions (read, add, create, write, delete, list).\n",
    "- **Access Denied**: Double-check container names, mount points, and that the storage account credentials are correct.\n",
    "- **Already Mounted Error**: Unmount using `dbutils.fs.unmount(<mount_point>)` before remounting."
   ]
  }
 ],
 "metadata": {
  "application/vnd.databricks.v1+notebook": {
   "computePreferences": null,
   "dashboards": [],
   "environmentMetadata": {
    "base_environment": "",
    "environment_version": "2"
   },
   "inputWidgetPreferences": null,
   "language": "python",
   "notebookMetadata": {
    "pythonIndentUnit": 4
   },
   "notebookName": "TrendSyncMountAzureStorage",
   "widgets": {}
  }
 },
 "nbformat": 4,
 "nbformat_minor": 0
}