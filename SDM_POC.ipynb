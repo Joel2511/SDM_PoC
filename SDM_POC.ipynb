{
 "cells": [
  {
   "cell_type": "code",
   "execution_count": 0,
   "metadata": {
    "application/vnd.databricks.v1+cell": {
     "cellMetadata": {},
     "inputWidgets": {},
     "nuid": "9b6ecc1a-51f3-47ee-8d81-9a57e4a1c08a",
     "showTitle": false,
     "tableResultSettingsMap": {},
     "title": ""
    }
   },
   "outputs": [],
   "source": [
    "# Mount gold zone\n",
    "gold_container_name = \"gold-zone-bdm\"\n",
    "gold_mount_point = \"/mnt/gold-zone-bdm\"\n",
    "account_key = \"rk/ZtM2OOzNHT9/V8zTSAzvOUN4BkAuCY+GetsdhuIAQM0Ai70D9lWxZLemC5T72U3FImY1CmCzR+ASt1EnOtg==\"\n",
    "\n",
    "if not any(mount.mountPoint == gold_mount_point for mount in dbutils.fs.mounts()):\n",
    "    dbutils.fs.mount(\n",
    "        source=f\"wasbs://{gold_container_name}@{storage_account_name}.blob.core.windows.net\",\n",
    "        mount_point=gold_mount_point,\n",
    "        extra_configs={\n",
    "            f\"fs.azure.account.key.{storage_account_name}.blob.core.windows.net\": account_key\n",
    "        }\n",
    "    )\n",
    "    print(f\"Mounted {gold_container_name} to {gold_mount_point}\")\n",
    "else:\n",
    "    print(f\"Mount point {gold_mount_point} already exists\")"
   ]
  },
  {
   "cell_type": "markdown",
   "metadata": {
    "application/vnd.databricks.v1+cell": {
     "cellMetadata": {},
     "inputWidgets": {},
     "nuid": "a8b65a68-9f21-43bc-b72f-881f9bfcbabe",
     "showTitle": false,
     "tableResultSettingsMap": {},
     "title": ""
    }
   },
   "source": [
    "## Mounting Storage\n",
    "This section above mounts the Azure Blob Storage container (`gold-zone-bdm`) to `/mnt/gold-zone-bdm` in Databricks.\n",
    "- Uses `dbutils.fs.mount()` with an account key for secure access.\n",
    "- Checks if the mount point exists to avoid remounting, ensuring efficiency.\n",
    "- Note: Replace `storage_account_name` with your actual Azure storage account name, and `account_key` with a secure credential (provided here as an example; store securely in Databricks secrets in production)."
   ]
  },
  {
   "cell_type": "code",
   "execution_count": 0,
   "metadata": {
    "application/vnd.databricks.v1+cell": {
     "cellMetadata": {
      "byteLimit": 2048000,
      "rowLimit": 10000
     },
     "inputWidgets": {},
     "nuid": "5df54243-df73-4424-9ef2-1681f76a9f7e",
     "showTitle": false,
     "tableResultSettingsMap": {},
     "title": ""
    }
   },
   "outputs": [],
   "source": [
    "#sparkDF = spark.read.format(\"delta\").load(\"/mnt/gold-zone-bdm/enriched_transactions\").limit(1000)\n",
    "#sparkDF.write.format(\"parquet\").mode(\"overwrite\").save(\"/mnt/gold-zone-bdm/subset_enriched_transactions\")"
   ]
  },
  {
   "cell_type": "markdown",
   "metadata": {
    "application/vnd.databricks.v1+cell": {
     "cellMetadata": {},
     "inputWidgets": {},
     "nuid": "fc48f546-c4b1-4568-a01a-8b2ddf3f9578",
     "showTitle": false,
     "tableResultSettingsMap": {},
     "title": ""
    }
   },
   "source": [
    "## Step 2: Load and Build Graph (M4)\n",
    "Loads enriched transaction data from a Delta table, samples 100,000 records (~0.35% of 28M) for the PoC, and constructs a property graph.\n",
    "- Sampling uses a fixed seed (42) for reproducibility.\n",
    "- Derives `age_group` for customer segmentation.\n",
    "- Creates vertices (Customer, Article) and edges (PURCHASE) with optimized partitioning (20 partitions) and persistence for performance."
   ]
  },
  {
   "cell_type": "code",
   "execution_count": 0,
   "metadata": {
    "application/vnd.databricks.v1+cell": {
     "cellMetadata": {
      "byteLimit": 2048000,
      "rowLimit": 10000
     },
     "inputWidgets": {},
     "nuid": "8aa2aa1c-05b6-4346-a36b-5621ea338bfe",
     "showTitle": false,
     "tableResultSettingsMap": {},
     "title": ""
    }
   },
   "outputs": [
    {
     "output_type": "stream",
     "name": "stdout",
     "output_type": "stream",
     "text": [
      "Starting Step 2: Loading and sampling data...\nSampled 99620 records\n"
     ]
    }
   ],
   "source": [
    "from pyspark.sql.functions import col, when, lit\n",
    "from graphframes import GraphFrame\n",
    "import time\n",
    "\n",
    "# Start time for logging\n",
    "start_time = time.time()\n",
    "\n",
    "# Step 2: Load and Sample Data, Build Graph (M4)\n",
    "print(\"Starting Step 2: Loading and sampling data...\")\n",
    "sparkDF = spark.read.format(\"delta\").load(\"/mnt/gold-zone-bdm/enriched_transactions\")\n",
    "# Sample 100,000 records (~0.35% of 28M)\n",
    "sparkDF = sparkDF.sample(fraction=0.0035, seed=42).limit(100000)\n",
    "print(f\"Sampled {sparkDF.count()} records\")\n",
    "\n",
    "# Derive age_group\n",
    "sparkDF = sparkDF.withColumn(\n",
    "    \"age_group\",\n",
    "    when(col(\"age\") < 30, \"Youth\")\n",
    "    .when((col(\"age\") >= 30) & (col(\"age\") <= 50), \"Adult\")\n",
    "    .otherwise(\"Senior\")\n",
    ")"
   ]
  },
  {
   "cell_type": "code",
   "execution_count": 0,
   "metadata": {
    "application/vnd.databricks.v1+cell": {
     "cellMetadata": {
      "byteLimit": 2048000,
      "rowLimit": 10000
     },
     "inputWidgets": {},
     "nuid": "4be77bc2-4219-424a-90fe-ac8003cb046b",
     "showTitle": false,
     "tableResultSettingsMap": {},
     "title": ""
    }
   },
   "outputs": [
    {
     "output_type": "stream",
     "name": "stdout",
     "output_type": "stream",
     "text": [
      "Creating vertices...\nCreating edges...\nVertices: 123502, Edges: 99620\nStep 2 completed in 0.04 minutes\n"
     ]
    },
    {
     "output_type": "stream",
     "name": "stderr",
     "output_type": "stream",
     "text": [
      "/databricks/spark/python/pyspark/sql/dataframe.py:180: UserWarning: DataFrame.sql_ctx is an internal property, and will be removed in future releases. Use DataFrame.sparkSession instead.\n  warnings.warn(\n"
     ]
    }
   ],
   "source": [
    "# Create vertices with aligned schemas\n",
    "print(\"Creating vertices...\")\n",
    "customer_vertices = sparkDF.select(\n",
    "    col(\"customer_id\").alias(\"id\"),\n",
    "    lit(\"Customer\").alias(\"type\"),\n",
    "    col(\"age_group\").alias(\"property1\"),\n",
    "    lit(None).cast(\"string\").alias(\"property2\")\n",
    ").distinct()\n",
    "\n",
    "article_vertices = sparkDF.select(\n",
    "    col(\"article_id\").alias(\"id\"),\n",
    "    lit(\"Article\").alias(\"type\"),\n",
    "    col(\"prod_name\").alias(\"property1\"),\n",
    "    col(\"color_category\").alias(\"property2\")\n",
    ").distinct()\n",
    "\n",
    "vertices = customer_vertices.union(article_vertices)\n",
    "\n",
    "# Create edges\n",
    "print(\"Creating edges...\")\n",
    "edges = sparkDF.select(\n",
    "    col(\"customer_id\").alias(\"src\"),\n",
    "    col(\"article_id\").alias(\"dst\"),\n",
    "    col(\"t_dat\"),\n",
    "    col(\"price\"),\n",
    "    col(\"transaction_year\"),\n",
    "    col(\"transaction_month\")\n",
    ").withColumn(\"relationship\", lit(\"PURCHASE\"))\n",
    "\n",
    "# Optimize with smaller partitions for the sample\n",
    "vertices = vertices.repartition(20).persist()\n",
    "edges = edges.repartition(20).persist()\n",
    "print(f\"Vertices: {vertices.count()}, Edges: {edges.count()}\")\n",
    "\n",
    "# Create GraphFrame\n",
    "graph = GraphFrame(vertices, edges)\n",
    "print(f\"Step 2 completed in {(time.time() - start_time) / 60:.2f} minutes\")"
   ]
  },
  {
   "cell_type": "markdown",
   "metadata": {
    "application/vnd.databricks.v1+cell": {
     "cellMetadata": {},
     "inputWidgets": {},
     "nuid": "761ee2cb-e9a2-427a-a5c4-4d6392aa695d",
     "showTitle": false,
     "tableResultSettingsMap": {},
     "title": ""
    }
   },
   "source": [
    "%md\n",
    "## Step 3: Run Graph Analytics (M5)\n",
    "Executes graph analytics on the constructed graph:\n",
    "- **PageRank**: Identifies trending articles (3 iterations, resetProbability=0.15) to support inventory optimization.\n",
    "- **Connected Components**: Segments customers into communities for demand forecasting, using a checkpoint directory for Spark.\n",
    "- Outputs top 10 results for validation."
   ]
  },
  {
   "cell_type": "code",
   "execution_count": 0,
   "metadata": {
    "application/vnd.databricks.v1+cell": {
     "cellMetadata": {
      "byteLimit": 2048000,
      "rowLimit": 10000
     },
     "inputWidgets": {},
     "nuid": "ac0f1f58-eb9c-4d59-bff0-e5c6cb50bc59",
     "showTitle": false,
     "tableResultSettingsMap": {},
     "title": ""
    }
   },
   "outputs": [
    {
     "output_type": "stream",
     "name": "stdout",
     "output_type": "stream",
     "text": [
      "Starting Step 3: Running graph analytics...\nRunning PageRank...\n"
     ]
    },
    {
     "output_type": "stream",
     "name": "stderr",
     "output_type": "stream",
     "text": [
      "/databricks/spark/python/pyspark/sql/dataframe.py:159: UserWarning: DataFrame constructor is internal. Do not directly use it.\n  warnings.warn(\"DataFrame constructor is internal. Do not directly use it.\")\n/databricks/spark/python/pyspark/sql/dataframe.py:180: UserWarning: DataFrame.sql_ctx is an internal property, and will be removed in future releases. Use DataFrame.sparkSession instead.\n  warnings.warn(\n"
     ]
    },
    {
     "output_type": "stream",
     "name": "stdout",
     "output_type": "stream",
     "text": [
      "PageRank completed in 0.27 minutes\nSetting checkpoint directory...\nRunning Connected Components...\nConnected Components completed in 4.04 minutes\nPageRank Results:\n+----------+--------------------+----------------+------------------+\n|article_id|           prod_name|  color_category|          pagerank|\n+----------+--------------------+----------------+------------------+\n| 706016001|Jade HW Skinny De...|      Black Dark| 72.90340895414506|\n| 706016002|Jade HW Skinny De...|Light Blue Light| 66.34432907630007|\n| 610776002|               Tilly|      Black Dark| 48.91214362914148|\n| 372860002|  7p Basic Shaftless|     White Light| 44.46605592670959|\n| 759871002|          Tilda tank|      Black Dark| 42.83729112482861|\n| 610776001|               Tilly|     White Light|42.661208443544155|\n| 372860001|  7p Basic Shaftless|      Black Dark|40.328112916525455|\n| 464297007|Greta Thong Mynta...|      Black Dark| 39.79986487267216|\n| 399223001|Curvy Jeggings HW...|      Black Dark|  34.3413017528548|\n| 562245001|      Luna skinny RW|      Black Dark|33.328826335469316|\n+----------+--------------------+----------------+------------------+\n\nConnected Components Results:\n+--------------------+---------+\n|         customer_id|community|\n+--------------------+---------+\n|032e069cc3127b0c9...|        7|\n|03deb76b617aee9ed...|        7|\n|005ddabf9bc77f963...|        0|\n|0086f22a4967559a6...|        1|\n|00a19196dbb0af7b1...|        2|\n|00e0f1321cda179e6...|        3|\n|018f84ed6ec3454cd...|        4|\n|01d333eff912a4a37...|        5|\n|0216d6e9d1fa2197b...|        6|\n|022ec6812ef493c4c...|        7|\n+--------------------+---------+\n\nStep 3 completed in 4.38 minutes\n"
     ]
    }
   ],
   "source": [
    "# Step 3: Run Analytics (M5)\n",
    "print(\"Starting Step 3: Running graph analytics...\")\n",
    "step3_start = time.time()\n",
    "\n",
    "print(\"Running PageRank...\")\n",
    "pagerank_start = time.time()\n",
    "pagerank_result = graph.pageRank(resetProbability=0.15, maxIter=3)\n",
    "trending_articles = pagerank_result.vertices.filter(col(\"type\") == \"Article\").select(\n",
    "    col(\"id\").alias(\"article_id\"),\n",
    "    col(\"property1\").alias(\"prod_name\"),\n",
    "    col(\"property2\").alias(\"color_category\"),\n",
    "    col(\"pagerank\")\n",
    ").orderBy(col(\"pagerank\").desc()).limit(10)\n",
    "print(f\"PageRank completed in {(time.time() - pagerank_start) / 60:.2f} minutes\")\n",
    "\n",
    "print(\"Setting checkpoint directory...\")\n",
    "spark.sparkContext.setCheckpointDir(\"dbfs:/tmp/checkpoints\")\n",
    "\n",
    "print(\"Running Connected Components...\")\n",
    "cc_start = time.time()\n",
    "cc_result = graph.connectedComponents()\n",
    "customer_segments = cc_result.filter(col(\"type\") == \"Customer\").select(\n",
    "    col(\"id\").alias(\"customer_id\"),\n",
    "    col(\"component\").alias(\"community\")\n",
    ").limit(10)\n",
    "print(f\"Connected Components completed in {(time.time() - cc_start) / 60:.2f} minutes\")\n",
    "\n",
    "print(\"PageRank Results:\")\n",
    "trending_articles.show()\n",
    "print(\"Connected Components Results:\")\n",
    "customer_segments.show()\n",
    "print(f\"Step 3 completed in {(time.time() - step3_start) / 60:.2f} minutes\")"
   ]
  },
  {
   "cell_type": "markdown",
   "metadata": {
    "application/vnd.databricks.v1+cell": {
     "cellMetadata": {},
     "inputWidgets": {},
     "nuid": "234d2912-3905-4691-b819-663a1140a724",
     "showTitle": false,
     "tableResultSettingsMap": {},
     "title": ""
    }
   },
   "source": [
    "## Step 4: Store Metadata (M6)\n",
    "Generates and stores metadata from analytics results:\n",
    "- PageRank scores for articles and community IDs for customers.\n",
    "- Saves to a Delta table (`/mnt/gold-zone-bdm/graph_metadata`) for reuse in downstream processes (e.g., forecasting, inventory)."
   ]
  },
  {
   "cell_type": "code",
   "execution_count": 0,
   "metadata": {
    "application/vnd.databricks.v1+cell": {
     "cellMetadata": {
      "byteLimit": 2048000,
      "rowLimit": 10000
     },
     "inputWidgets": {},
     "nuid": "135c92fc-7293-4e84-a77d-713f4f392305",
     "showTitle": false,
     "tableResultSettingsMap": {},
     "title": ""
    }
   },
   "outputs": [
    {
     "output_type": "stream",
     "name": "stdout",
     "output_type": "stream",
     "text": [
      "Starting Step 4: Storing metadata...\nMetadata saved to Delta\n"
     ]
    }
   ],
   "source": [
    "# Step 4: Store Metadata (M6)\n",
    "print(\"Starting Step 4: Storing metadata...\")\n",
    "pagerank_metadata = trending_articles.select(\n",
    "    col(\"article_id\").alias(\"entity_id\"),\n",
    "    lit(\"Article\").alias(\"entity_type\"),\n",
    "    lit(\"PageRank\").alias(\"metric\"),\n",
    "    col(\"pagerank\").cast(\"double\").alias(\"value\")\n",
    ")\n",
    "\n",
    "community_metadata = customer_segments.select(\n",
    "    col(\"customer_id\").alias(\"entity_id\"),\n",
    "    lit(\"Customer\").alias(\"entity_type\"),\n",
    "    lit(\"Community\").alias(\"metric\"),\n",
    "    col(\"community\").cast(\"double\").alias(\"value\")\n",
    ")\n",
    "\n",
    "metadata_df = pagerank_metadata.union(community_metadata)\n",
    "metadata_df.write.format(\"delta\").mode(\"overwrite\").save(\"/mnt/gold-zone-bdm/graph_metadata\")\n",
    "print(\"Metadata saved to Delta\")"
   ]
  },
  {
   "cell_type": "markdown",
   "metadata": {
    "application/vnd.databricks.v1+cell": {
     "cellMetadata": {},
     "inputWidgets": {},
     "nuid": "5b3dea7d-4782-4685-be1a-0664826b6927",
     "showTitle": false,
     "tableResultSettingsMap": {},
     "title": ""
    }
   },
   "source": [
    "## Step 5: Verify Results (M7)\n",
    "Verifies the PoC by reloading metadata, joining with article details, and displaying final outputs.\n",
    "- Combines article metadata with `prod_name` and `color_category` for context.\n",
    "- Ensures end-to-end functionality with a sample output of trending articles and customer segments."
   ]
  },
  {
   "cell_type": "code",
   "execution_count": 0,
   "metadata": {
    "application/vnd.databricks.v1+cell": {
     "cellMetadata": {
      "byteLimit": 2048000,
      "rowLimit": 10000
     },
     "inputWidgets": {},
     "nuid": "e489970b-e416-41f9-8ec9-a1a1acf7e82a",
     "showTitle": false,
     "tableResultSettingsMap": {},
     "title": ""
    }
   },
   "outputs": [
    {
     "output_type": "stream",
     "name": "stdout",
     "output_type": "stream",
     "text": [
      "Starting Step 5: Verifying results...\n+--------------------+-----------+---------+------------------+--------------------+----------------+\n|           entity_id|entity_type|   metric|             value|           prod_name|  color_category|\n+--------------------+-----------+---------+------------------+--------------------+----------------+\n|           706016001|    Article| PageRank| 72.90340895414506|Jade HW Skinny De...|      Black Dark|\n|           706016002|    Article| PageRank| 66.34432907630007|Jade HW Skinny De...|Light Blue Light|\n|           610776002|    Article| PageRank| 48.91214362914148|               Tilly|      Black Dark|\n|           372860002|    Article| PageRank| 44.46605592670959|  7p Basic Shaftless|     White Light|\n|           759871002|    Article| PageRank| 42.83729112482861|          Tilda tank|      Black Dark|\n|           610776001|    Article| PageRank|42.661208443544155|               Tilly|     White Light|\n|           372860001|    Article| PageRank|40.328112916525455|  7p Basic Shaftless|      Black Dark|\n|           464297007|    Article| PageRank| 39.79986487267216|Greta Thong Mynta...|      Black Dark|\n|           399223001|    Article| PageRank|  34.3413017528548|Curvy Jeggings HW...|      Black Dark|\n|           562245001|    Article| PageRank|33.328826335469316|      Luna skinny RW|      Black Dark|\n|032e069cc3127b0c9...|   Customer|Community|               7.0|                NULL|            NULL|\n|03deb76b617aee9ed...|   Customer|Community|               7.0|                NULL|            NULL|\n|005ddabf9bc77f963...|   Customer|Community|               0.0|                NULL|            NULL|\n|0086f22a4967559a6...|   Customer|Community|               1.0|                NULL|            NULL|\n|00a19196dbb0af7b1...|   Customer|Community|               2.0|                NULL|            NULL|\n|00e0f1321cda179e6...|   Customer|Community|               3.0|                NULL|            NULL|\n|018f84ed6ec3454cd...|   Customer|Community|               4.0|                NULL|            NULL|\n|01d333eff912a4a37...|   Customer|Community|               5.0|                NULL|            NULL|\n|0216d6e9d1fa2197b...|   Customer|Community|               6.0|                NULL|            NULL|\n|022ec6812ef493c4c...|   Customer|Community|               7.0|                NULL|            NULL|\n+--------------------+-----------+---------+------------------+--------------------+----------------+\n\nTotal runtime: 4.64 minutes\n"
     ]
    },
    {
     "output_type": "execute_result",
     "data": {
      "text/plain": [
       "DataFrame[src: string, dst: string, t_dat: date, price: double, transaction_year: int, transaction_month: int, relationship: string]"
      ]
     },
     "execution_count": 22,
     "metadata": {},
     "output_type": "execute_result"
    }
   ],
   "source": [
    "# Step 5: Verify (M7)\n",
    "print(\"Starting Step 5: Verifying results...\")\n",
    "metadata_df = spark.read.format(\"delta\").load(\"/mnt/gold-zone-bdm/graph_metadata\")\n",
    "\n",
    "# Join with trending_articles to include prod_name and color_category for articles\n",
    "articles_with_details = metadata_df.filter(col(\"entity_type\") == \"Article\")\\\n",
    "    .join(trending_articles, metadata_df.entity_id == trending_articles.article_id, \"left\")\\\n",
    "    .select(\n",
    "        metadata_df.entity_id,\n",
    "        metadata_df.entity_type,\n",
    "        metadata_df.metric,\n",
    "        metadata_df.value,\n",
    "        trending_articles.prod_name,\n",
    "        trending_articles.color_category\n",
    "    )\n",
    "\n",
    "# Customers remain as-is\n",
    "customers = metadata_df.filter(col(\"entity_type\") == \"Customer\")\n",
    "\n",
    "# Combine and display\n",
    "final_output = articles_with_details.union(customers.select(\"entity_id\", \"entity_type\", \"metric\", \"value\", lit(None).alias(\"prod_name\"), lit(None).alias(\"color_category\")))\n",
    "final_output.show()\n",
    "print(f\"Total runtime: {(time.time() - start_time) / 60:.2f} minutes\")\n"
   ]
  },
  {
   "cell_type": "code",
   "execution_count": 0,
   "metadata": {
    "application/vnd.databricks.v1+cell": {
     "cellMetadata": {
      "byteLimit": 2048000,
      "rowLimit": 10000
     },
     "inputWidgets": {},
     "nuid": "b5a8df10-b6a5-4dd7-8f9d-f8b21e05a0bb",
     "showTitle": false,
     "tableResultSettingsMap": {},
     "title": ""
    }
   },
   "outputs": [
    {
     "output_type": "execute_result",
     "data": {
      "text/plain": [
       "DataFrame[src: string, dst: string, t_dat: date, price: double, transaction_year: int, transaction_month: int, relationship: string]"
      ]
     },
     "execution_count": 23,
     "metadata": {},
     "output_type": "execute_result"
    }
   ],
   "source": [
    "vertices.unpersist()\n",
    "edges.unpersist()"
   ]
  }
 ],
 "metadata": {
  "application/vnd.databricks.v1+notebook": {
   "computePreferences": null,
   "dashboards": [],
   "environmentMetadata": {
    "base_environment": "",
    "environment_version": "2"
   },
   "inputWidgetPreferences": null,
   "language": "python",
   "notebookMetadata": {
    "pythonIndentUnit": 4
   },
   "notebookName": "SDM_POC",
   "widgets": {}
  }
 },
 "nbformat": 4,
 "nbformat_minor": 0
}